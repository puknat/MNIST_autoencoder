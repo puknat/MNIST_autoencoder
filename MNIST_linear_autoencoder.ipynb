{
 "cells": [
  {
   "cell_type": "markdown",
   "metadata": {},
   "source": [
    "# Simple Linear Autoencoder for MNIST"
   ]
  },
  {
   "cell_type": "code",
   "execution_count": 1,
   "metadata": {},
   "outputs": [],
   "source": [
    "%matplotlib inline\n",
    "import tensorflow as tf\n",
    "import tensorflow.keras as keras\n",
    "import tensorflow.keras.layers as layers\n",
    "import tensorflow.keras.activations as activations\n",
    "from tensorflow.python.keras.models import Model\n",
    "import os\n",
    "import scipy\n",
    "from tqdm import tqdm\n",
    "import numpy as np\n",
    "import util\n",
    "from matplotlib import pyplot as plt"
   ]
  },
  {
   "cell_type": "markdown",
   "metadata": {},
   "source": [
    "## Some Helper Functions"
   ]
  },
  {
   "cell_type": "code",
   "execution_count": 2,
   "metadata": {},
   "outputs": [],
   "source": [
    "def show_image(img):\n",
    "    plt.figure()\n",
    "    plt.imshow(img)\n",
    "    plt.show()"
   ]
  },
  {
   "cell_type": "code",
   "execution_count": 3,
   "metadata": {},
   "outputs": [],
   "source": [
    "def show_side_by_side(img1, img2):\n",
    "    plt.figure()\n",
    "    plt.subplot(1, 2, 1)\n",
    "    plt.imshow(img1)\n",
    "    plt.subplot(1, 2, 2)\n",
    "    plt.imshow(img2)\n",
    "    plt.show()"
   ]
  },
  {
   "cell_type": "markdown",
   "metadata": {},
   "source": [
    "## The Dataset"
   ]
  },
  {
   "cell_type": "markdown",
   "metadata": {},
   "source": [
    "Loading the MNIST Dataset. Ignoring the y values, since they are not needed to train the autoencoder. "
   ]
  },
  {
   "cell_type": "code",
   "execution_count": 4,
   "metadata": {},
   "outputs": [],
   "source": [
    "from tensorflow.keras.datasets import mnist\n",
    "\n",
    "(x_train, _), (x_test, _) = mnist.load_data()"
   ]
  },
  {
   "cell_type": "markdown",
   "metadata": {},
   "source": [
    "There are 60,000 images of numbers with values ranging from 0 to 255."
   ]
  },
  {
   "cell_type": "code",
   "execution_count": 5,
   "metadata": {},
   "outputs": [
    {
     "data": {
      "text/plain": [
       "(60000, 28, 28)"
      ]
     },
     "execution_count": 5,
     "metadata": {},
     "output_type": "execute_result"
    }
   ],
   "source": [
    "x_train.shape"
   ]
  },
  {
   "cell_type": "code",
   "execution_count": 6,
   "metadata": {},
   "outputs": [
    {
     "data": {
      "text/plain": [
       "255"
      ]
     },
     "execution_count": 6,
     "metadata": {},
     "output_type": "execute_result"
    }
   ],
   "source": [
    "np.max(x_train)"
   ]
  },
  {
   "cell_type": "code",
   "execution_count": 7,
   "metadata": {},
   "outputs": [
    {
     "data": {
      "text/plain": [
       "0"
      ]
     },
     "execution_count": 7,
     "metadata": {},
     "output_type": "execute_result"
    }
   ],
   "source": [
    "np.min(x_train)"
   ]
  },
  {
   "cell_type": "code",
   "execution_count": 10,
   "metadata": {},
   "outputs": [
    {
     "data": {
      "image/png": "[encoded data removed]",
      "text/plain": [
       "<Figure size 432x288 with 1 Axes>"
      ]
     },
     "metadata": {
      "needs_background": "light"
     },
     "output_type": "display_data"
    }
   ],
   "source": [
    "show_image(x_train[0])"
   ]
  },
  {
   "cell_type": "markdown",
   "metadata": {},
   "source": [
    "Normalizing the dataset to values betweeen 0 and 1."
   ]
  },
  {
   "cell_type": "code",
   "execution_count": 8,
   "metadata": {},
   "outputs": [],
   "source": [
    "x_train = x_train / 255\n",
    "x_test = x_test / 255"
   ]
  },
  {
   "cell_type": "code",
   "execution_count": 9,
   "metadata": {},
   "outputs": [
    {
     "data": {
      "text/plain": [
       "1.0"
      ]
     },
     "execution_count": 9,
     "metadata": {},
     "output_type": "execute_result"
    }
   ],
   "source": [
    "np.max(x_train)"
   ]
  },
  {
   "cell_type": "code",
   "execution_count": 11,
   "metadata": {},
   "outputs": [
    {
     "data": {
      "text/plain": [
       "0.0"
      ]
     },
     "execution_count": 11,
     "metadata": {},
     "output_type": "execute_result"
    }
   ],
   "source": [
    "np.min(x_train)"
   ]
  },
  {
   "cell_type": "code",
   "execution_count": 12,
   "metadata": {},
   "outputs": [
    {
     "data": {
      "image/png": "[encoded data removed]",
      "text/plain": [
       "<Figure size 432x288 with 1 Axes>"
      ]
     },
     "metadata": {
      "needs_background": "light"
     },
     "output_type": "display_data"
    }
   ],
   "source": [
    "show_image(x_train[0])"
   ]
  },
  {
   "cell_type": "markdown",
   "metadata": {},
   "source": [
    "## The Model"
   ]
  },
  {
   "cell_type": "markdown",
   "metadata": {},
   "source": [
    "Defining some constants for later. Even if the memory permits it, do not use too large a BATCH_SIZE, that can decreas learning rate A LOT, probably connected to the effect obeserved here: https://arxiv.org/pdf/1609.04836.pdf."
   ]
  },
  {
   "cell_type": "code",
   "execution_count": 13,
   "metadata": {},
   "outputs": [],
   "source": [
    "LEARNING_RATE = 1.0\n",
    "BATCH_SIZE = 100\n",
    "EPOCHS = 30"
   ]
  },
  {
   "cell_type": "markdown",
   "metadata": {},
   "source": [
    "Building the Model of the autoencoder. Just a simple linear model."
   ]
  },
  {
   "cell_type": "code",
   "execution_count": 14,
   "metadata": {},
   "outputs": [],
   "source": [
    "input_layer = layers.Input(shape=(28,28))\n",
    "\n",
    "x = layers.Flatten()(input_layer) # 28*28=784\n",
    "x = layers.Dense(256, activation=activations.relu)(x)\n",
    "x = layers.Dense(8, activation=activations.relu)(x)\n",
    "x = layers.Dense(256, activation=activations.relu)(x)\n",
    "x = layers.Dense(784, activation=activations.relu)(x)\n",
    "\n",
    "output_layer = layers.Reshape((28,28))(x)\n",
    "\n",
    "model = Model(input_layer, output_layer)"
   ]
  },
  {
   "cell_type": "markdown",
   "metadata": {},
   "source": [
    "Defining the optimizer and loss function. Using the simple stochastic gradient decent optimizer and mean squared error loss. Also using momentum for faster convergence."
   ]
  },
  {
   "cell_type": "code",
   "execution_count": 15,
   "metadata": {},
   "outputs": [],
   "source": [
    "optimizer = keras.optimizers.SGD(lr=LEARNING_RATE, momentum=0.9)\n",
    "loss = keras.losses.mean_squared_error"
   ]
  },
  {
   "cell_type": "markdown",
   "metadata": {},
   "source": [
    "Compiling the model."
   ]
  },
  {
   "cell_type": "code",
   "execution_count": 16,
   "metadata": {},
   "outputs": [],
   "source": [
    "model.compile(optimizer=optimizer, loss=loss)"
   ]
  },
  {
   "cell_type": "markdown",
   "metadata": {},
   "source": [
    "Fitting the model to the data. The input and output data is the same, to teach the autoencoder to recover the original input."
   ]
  },
  {
   "cell_type": "code",
   "execution_count": 17,
   "metadata": {},
   "outputs": [
    {
     "name": "stdout",
     "output_type": "stream",
     "text": [
      "Train on 60000 samples, validate on 10000 samples\n",
      "Epoch 1/30\n",
      " - 5s - loss: 0.0463 - val_loss: 0.0349\n",
      "Epoch 2/30\n",
      " - 3s - loss: 0.0325 - val_loss: 0.0307\n",
      "Epoch 3/30\n",
      " - 3s - loss: 0.0295 - val_loss: 0.0284\n",
      "Epoch 4/30\n",
      " - 3s - loss: 0.0280 - val_loss: 0.0273\n",
      "Epoch 5/30\n",
      " - 3s - loss: 0.0268 - val_loss: 0.0262\n",
      "Epoch 6/30\n",
      " - 3s - loss: 0.0260 - val_loss: 0.0256\n",
      "Epoch 7/30\n",
      " - 3s - loss: 0.0250 - val_loss: 0.0243\n",
      "Epoch 8/30\n",
      " - 3s - loss: 0.0239 - val_loss: 0.0234\n",
      "Epoch 9/30\n",
      " - 3s - loss: 0.0232 - val_loss: 0.0228\n",
      "Epoch 10/30\n",
      " - 3s - loss: 0.0228 - val_loss: 0.0223\n",
      "Epoch 11/30\n",
      " - 3s - loss: 0.0224 - val_loss: 0.0219\n",
      "Epoch 12/30\n",
      " - 3s - loss: 0.0221 - val_loss: 0.0219\n",
      "Epoch 13/30\n",
      " - 3s - loss: 0.0218 - val_loss: 0.0215\n",
      "Epoch 14/30\n",
      " - 3s - loss: 0.0215 - val_loss: 0.0213\n",
      "Epoch 15/30\n",
      " - 3s - loss: 0.0212 - val_loss: 0.0210\n",
      "Epoch 16/30\n",
      " - 3s - loss: 0.0211 - val_loss: 0.0208\n",
      "Epoch 17/30\n",
      " - 3s - loss: 0.0209 - val_loss: 0.0207\n",
      "Epoch 18/30\n",
      " - 3s - loss: 0.0207 - val_loss: 0.0205\n",
      "Epoch 19/30\n",
      " - 3s - loss: 0.0206 - val_loss: 0.0205\n",
      "Epoch 20/30\n",
      " - 3s - loss: 0.0205 - val_loss: 0.0203\n",
      "Epoch 21/30\n",
      " - 3s - loss: 0.0203 - val_loss: 0.0203\n",
      "Epoch 22/30\n",
      " - 3s - loss: 0.0203 - val_loss: 0.0202\n",
      "Epoch 23/30\n",
      " - 3s - loss: 0.0202 - val_loss: 0.0201\n",
      "Epoch 24/30\n",
      " - 3s - loss: 0.0201 - val_loss: 0.0199\n",
      "Epoch 25/30\n",
      " - 3s - loss: 0.0200 - val_loss: 0.0200\n",
      "Epoch 26/30\n",
      " - 3s - loss: 0.0199 - val_loss: 0.0199\n",
      "Epoch 27/30\n",
      " - 3s - loss: 0.0198 - val_loss: 0.0198\n",
      "Epoch 28/30\n",
      " - 3s - loss: 0.0198 - val_loss: 0.0197\n",
      "Epoch 29/30\n",
      " - 3s - loss: 0.0197 - val_loss: 0.0198\n",
      "Epoch 30/30\n",
      " - 3s - loss: 0.0196 - val_loss: 0.0196\n"
     ]
    }
   ],
   "source": [
    "history = model.fit(x=x_train, y=x_train, batch_size=BATCH_SIZE, validation_data=(x_test, x_test), epochs=EPOCHS, shuffle=True, verbose=2, )"
   ]
  },
  {
   "cell_type": "markdown",
   "metadata": {},
   "source": [
    "## Visualizing the Results"
   ]
  },
  {
   "cell_type": "code",
   "execution_count": 18,
   "metadata": {},
   "outputs": [
    {
     "data": {
      "text/plain": [
       "dict_keys(['val_loss', 'loss'])"
      ]
     },
     "execution_count": 18,
     "metadata": {},
     "output_type": "execute_result"
    }
   ],
   "source": [
    "history.history.keys()"
   ]
  },
  {
   "cell_type": "code",
   "execution_count": 19,
   "metadata": {},
   "outputs": [
    {
     "data": {
      "image/png": "[encoded data removed]",
      "text/plain": [
       "<Figure size 432x288 with 1 Axes>"
      ]
     },
     "metadata": {
      "needs_background": "light"
     },
     "output_type": "display_data"
    }
   ],
   "source": [
    "plt.figure()\n",
    "plt.plot(history.history[\"val_loss\"])\n",
    "plt.xlabel(\"Epoch\")\n",
    "plt.ylabel(\"Validation Loss\")\n",
    "plt.show()"
   ]
  },
  {
   "cell_type": "markdown",
   "metadata": {},
   "source": [
    "Using the model on the complete test set."
   ]
  },
  {
   "cell_type": "code",
   "execution_count": 20,
   "metadata": {},
   "outputs": [],
   "source": [
    "results = model.predict(x_test)"
   ]
  },
  {
   "cell_type": "markdown",
   "metadata": {},
   "source": [
    "Visualizing some examples. On the left is the original image, on the right is the image recovered by the autoencoder."
   ]
  },
  {
   "cell_type": "code",
   "execution_count": 21,
   "metadata": {},
   "outputs": [
    {
     "data": {
      "image/png": "[encoded data removed]",
      "text/plain": [
       "<Figure size 432x288 with 2 Axes>"
      ]
     },
     "metadata": {
      "needs_background": "light"
     },
     "output_type": "display_data"
    },
    {
     "data": {
      "image/png": "[encoded data removed]",
      "text/plain": [
       "<Figure size 432x288 with 2 Axes>"
      ]
     },
     "metadata": {
      "needs_background": "light"
     },
     "output_type": "display_data"
    },
    {
     "data": {
      "image/png": "[encoded data removed]",
      "text/plain": [
       "<Figure size 432x288 with 2 Axes>"
      ]
     },
     "metadata": {
      "needs_background": "light"
     },
     "output_type": "display_data"
    },
    {
     "data": {
      "image/png": "[encoded data removed]",
      "text/plain": [
       "<Figure size 432x288 with 2 Axes>"
      ]
     },
     "metadata": {
      "needs_background": "light"
     },
     "output_type": "display_data"
    },
    {
     "data": {
      "image/png": "[encoded data removed]",
      "text/plain": [
       "<Figure size 432x288 with 2 Axes>"
      ]
     },
     "metadata": {
      "needs_background": "light"
     },
     "output_type": "display_data"
    },
    {
     "data": {
      "image/png": "[encoded data removed]",
      "text/plain": [
       "<Figure size 432x288 with 2 Axes>"
      ]
     },
     "metadata": {
      "needs_background": "light"
     },
     "output_type": "display_data"
    },
    {
     "data": {
      "image/png": "[encoded data removed]",
      "text/plain": [
       "<Figure size 432x288 with 2 Axes>"
      ]
     },
     "metadata": {
      "needs_background": "light"
     },
     "output_type": "display_data"
    },
    {
     "data": {
      "image/png": "[encoded data removed]",
      "text/plain": [
       "<Figure size 432x288 with 2 Axes>"
      ]
     },
     "metadata": {
      "needs_background": "light"
     },
     "output_type": "display_data"
    },
    {
     "data": {
      "image/png": "[encoded data removed]",
      "text/plain": [
       "<Figure size 432x288 with 2 Axes>"
      ]
     },
     "metadata": {
      "needs_background": "light"
     },
     "output_type": "display_data"
    },
    {
     "data": {
      "image/png": "[encoded data removed]",
      "text/plain": [
       "<Figure size 432x288 with 2 Axes>"
      ]
     },
     "metadata": {
      "needs_background": "light"
     },
     "output_type": "display_data"
    }
   ],
   "source": [
    "for i in range(10):\n",
    "    show_side_by_side(x_test[i], results[i])"
   ]
  },
  {
   "cell_type": "markdown",
   "metadata": {},
   "source": [
    "## Saving the model"
   ]
  },
  {
   "cell_type": "code",
   "execution_count": 22,
   "metadata": {},
   "outputs": [],
   "source": [
    "model.save('mnist_autoencoder.h5')"
   ]
  }
 ],
 "metadata": {
  "kernelspec": {
   "display_name": "Python 3",
   "language": "python",
   "name": "python3"
  },
  "language_info": {
   "codemirror_mode": {
    "name": "ipython",
    "version": 3
   },
   "file_extension": ".py",
   "mimetype": "text/x-python",
   "name": "python",
   "nbconvert_exporter": "python",
   "pygments_lexer": "ipython3",
   "version": "3.6.6"
  }
 },
 "nbformat": 4,
 "nbformat_minor": 2
}
